{
  "nbformat": 4,
  "nbformat_minor": 0,
  "metadata": {
    "colab": {
      "name": "fibonacci_main.ipynb",
      "provenance": []
    },
    "kernelspec": {
      "name": "python3",
      "display_name": "Python 3"
    },
    "language_info": {
      "name": "python"
    }
  },
  "cells": [
    {
      "cell_type": "code",
      "metadata": {
        "colab": {
          "base_uri": "https://localhost:8080/"
        },
        "id": "gZEf70U4nEv-",
        "outputId": "354e888f-086c-4357-f139-f475c7cac282"
      },
      "source": [
        "from math import sqrt\n",
        "import re\n",
        "import time\n",
        "import sys\n",
        "from functools import lru_cache\n",
        "\n",
        "sys.setrecursionlimit(1000000000)\n",
        "\n",
        "\n",
        "#Bottom-up Fibonacci\n",
        "def fibonacci_bottom_up(n, F_bottom_up):\n",
        "  F_bottom_up[0] = 0\n",
        "  F_bottom_up[1] = 1\n",
        "\n",
        "  for i in range(2, n+1):\n",
        "    F_bottom_up[i] = F_bottom_up[i-1] + F_bottom_up[i-2]\n",
        "  return int(F_bottom_up[n])\n",
        "\n",
        "\n",
        "#Memoized Fibonacci\n",
        "def dynamic_fibonacci(n, F_dynamic):\n",
        "  #print(n)\n",
        "  if (F_dynamic[n] < 0):\n",
        "    if (n==0):\n",
        "      F_dynamic[n] = 0\n",
        "    elif (n == 1):\n",
        "      F_dynamic[n] = 1\n",
        "    else:\n",
        "      F_dynamic[n] = dynamic_fibonacci(n-1, F_dynamic) + dynamic_fibonacci(n-2, F_dynamic)\n",
        "  return F_dynamic[n]\n",
        "\n",
        "#Recursive Fibonacci\n",
        "def recurcive_Fibonacci(n): \n",
        "    if n<0: \n",
        "      print ('N/A') \n",
        "    # First Fibonacci number is 0 \n",
        "    elif n==0: \n",
        "      return 0\n",
        "    # Second Fibonacci number is 1 \n",
        "    elif n==1: \n",
        "      return 1\n",
        "    else: \n",
        "      return recurcive_Fibonacci(n-1)+recurcive_Fibonacci(n-2) \n",
        "\n",
        "\n",
        "#value = \"2, 7, 30, 10, 0, 8, 50\"\n",
        "value = str(input(\"Enter input string: \"))\n",
        "print(value)\n",
        "value_arr = re.split(' |, |,', value)\n",
        "print(value_arr)\n",
        "\n",
        "print(\"{:<15} {:<25} {:<15} {:<15} {:<15}\".format('nth', \"fibonacci result\", \"recursive\", \"dynamic\", \"bottom up\"))\n",
        "for nth in value_arr:\n",
        "\n",
        "  startTime = time.time_ns()\n",
        "  res1 = recurcive_Fibonacci(int(nth))\n",
        "  endTime = time.time_ns()\n",
        "\n",
        "  recursive_fib_time = (endTime-startTime)\n",
        "\n",
        "  ####\n",
        "\n",
        "  F_dynamic = [-1]*50 #array to store fibonacci terms\n",
        "  startTime = time.time_ns()\n",
        "  res2 = dynamic_fibonacci(int(nth), F_dynamic)\n",
        "  endTime = time.time_ns()\n",
        "\n",
        "  dynamic_fib_time = (endTime-startTime)\n",
        "\n",
        "\n",
        "  #####\n",
        "\n",
        "  F_bottom_up = [0]*50 #array to store fibonacci terms\n",
        "  startTime = time.time_ns()\n",
        "  res4 = fibonacci_bottom_up(int(nth), F_bottom_up)\n",
        "  endTime = time.time_ns()\n",
        "\n",
        "  bottomup_fib_time = (endTime-startTime)\n",
        "\n",
        "  ####\n",
        "  res = str(res1) #+\"|\"+str(res2)+\"|\"+str(res3)+\"|\"+str(res4)\n",
        "  print(\"{:<15} {:<25} {:<15} {:<15} {:<15} \".format(str(nth)+'th', res,\"%.5f\" % recursive_fib_time, \"%.5f\" % dynamic_fib_time, \"%.5f\" % bottomup_fib_time))"
      ],
      "execution_count": 3,
      "outputs": [
        {
          "output_type": "stream",
          "name": "stdout",
          "text": [
            "Enter input string: 1\n",
            "1\n",
            "['1']\n",
            "nth             fibonacci result          recursive       dynamic         bottom up      \n",
            "1th             1                         3240.00000      2317.00000      3253.00000      \n"
          ]
        }
      ]
    }
  ]
}